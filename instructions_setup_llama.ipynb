{
 "cells": [
  {
   "cell_type": "markdown",
   "metadata": {},
   "source": [
    "# How to download Llama-2"
   ]
  },
  {
   "cell_type": "markdown",
   "metadata": {},
   "source": [
    "#### 1. First, download Llama-2 model from the Meta website: https://llama.meta.com/llama-downloads/.\n",
    "\n",
    "After downloading, make sure the model is saved in a folder with the following structure:\n",
    "\n",
    "llama\n",
    "- **7B**\n",
    "  - `checklist.chk`\n",
    "  - `config.json`\n",
    "  - `consolidated.00.pth`\n",
    "  - `params.json`\n",
    "- `LICENSE`\n",
    "- `tokenizer_checklist.chk`\n",
    "- `tokenizer.model`\n",
    "- `USE_POLICY.md`"
   ]
  },
  {
   "cell_type": "markdown",
   "metadata": {},
   "source": [
    "#### 2. Convert Llama weights to HuggingFace interface using the following script:\n",
    "\n",
    "```bash\n",
    "python convert_llama_weights_to_hf.py --input_dir llama --model_size 7B --output_dir llama_converted --llama_version 2"
   ]
  },
  {
   "cell_type": "markdown",
   "metadata": {},
   "source": [
    "#### 3. Create the weights embeddings using the following script\n",
    "\n",
    "```bash\n",
    "python convert_llama_converted_to_token_npy.py\n",
    "```\n",
    "\n",
    "This will create a llama-token.npy file."
   ]
  }
 ],
 "metadata": {
  "kernelspec": {
   "display_name": "Python 3",
   "language": "python",
   "name": "python3"
  },
  "language_info": {
   "codemirror_mode": {
    "name": "ipython",
    "version": 3
   },
   "file_extension": ".py",
   "mimetype": "text/x-python",
   "name": "python",
   "nbconvert_exporter": "python",
   "pygments_lexer": "ipython3",
   "version": "3.11.9"
  }
 },
 "nbformat": 4,
 "nbformat_minor": 2
}

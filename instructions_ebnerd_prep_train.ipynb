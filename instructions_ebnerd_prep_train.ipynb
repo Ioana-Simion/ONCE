{
 "cells": [
  {
   "cell_type": "markdown",
   "metadata": {},
   "source": [
    "# Getting started with the EB-NeRD"
   ]
  },
  {
   "cell_type": "markdown",
   "metadata": {},
   "source": [
    "### Training preparation"
   ]
  },
  {
   "cell_type": "code",
   "execution_count": null,
   "metadata": {
    "vscode": {
     "languageId": "plaintext"
    }
   },
   "outputs": [],
   "source": [
    "python worker.py \\\n",
    "    --embed config/embed/ednerd-llama.yaml \\\n",
    "    --model config/model/llm/ebnerd-model.yaml \\\n",
    "    --exp config/exp/ebnerd-exp-prep.yaml \\\n",
    "    --data config/data/ebnerd-data.yaml \\\n",
    "    --version small \\\n",
    "    --llm_ver 7b \\\n",
    "    --hidden_size 64 \\\n",
    "    --layer 0 \\\n",
    "    --lora 0 \\\n",
    "    --fast_eval 0 \\\n",
    "    --embed_hidden_size 4096 \\\n",
    "    --page_size 8 \\"
   ]
  },
  {
   "cell_type": "markdown",
   "metadata": {},
   "source": [
    "### Training and testing"
   ]
  },
  {
   "cell_type": "code",
   "execution_count": null,
   "metadata": {
    "vscode": {
     "languageId": "plaintext"
    }
   },
   "outputs": [],
   "source": [
    "python worker.py \\\n",
    "    --embed config/embed/ebnerd-embed.yaml \\\n",
    "    --model config/model/llm/ebnerd-model.yaml \\\n",
    "    --exp config/exp/ebnerd-exp-train.yaml \\\n",
    "    --data config/data/ebnerd-data.yaml \\\n",
    "    --version small \\\n",
    "    --llm_ver 7b \\\n",
    "    --hidden_size 64 \\\n",
    "    --layer 1 \\\n",
    "    --lora 0 \\\n",
    "    --fast_eval 0 \\\n",
    "    --embed_hidden_size 4096 \\\n",
    "    --page_size 8 \\"
   ]
  }
 ],
 "metadata": {
  "kernelspec": {
   "display_name": "Python 3",
   "language": "python",
   "name": "python3"
  },
  "language_info": {
   "codemirror_mode": {
    "name": "ipython",
    "version": 3
   },
   "file_extension": ".py",
   "mimetype": "text/x-python",
   "name": "python",
   "nbconvert_exporter": "python",
   "pygments_lexer": "ipython3",
   "version": "3.11.9"
  }
 },
 "nbformat": 4,
 "nbformat_minor": 2
}

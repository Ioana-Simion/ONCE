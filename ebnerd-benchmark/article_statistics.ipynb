{
 "cells": [
  {
   "cell_type": "markdown",
   "metadata": {},
   "source": [
    "## Analyzing and understanding the data"
   ]
  },
  {
   "cell_type": "markdown",
   "metadata": {},
   "source": [
    "In order to have a sensible approach in the recommandation system, especially our proposed image extension, a good insight can be infered through analyzing the article data and user behavior as well as the underlying distributions."
   ]
  },
  {
   "cell_type": "markdown",
   "metadata": {},
   "source": [
    "### Load the Articles, History and Behavior"
   ]
  },
  {
   "cell_type": "markdown",
   "metadata": {},
   "source": [
    "For a more in depth explanation of each colum please refer to https://recsys.eb.dk/dataset/"
   ]
  },
  {
   "cell_type": "code",
   "execution_count": 1,
   "metadata": {},
   "outputs": [],
   "source": [
    "import pandas as pd"
   ]
  },
  {
   "cell_type": "code",
   "execution_count": 2,
   "metadata": {},
   "outputs": [
    {
     "data": {
      "text/plain": [
       "Index(['article_id', 'title', 'subtitle', 'last_modified_time', 'premium',\n",
       "       'body', 'published_time', 'image_ids', 'article_type', 'url',\n",
       "       'ner_clusters', 'entity_groups', 'topics', 'category', 'subcategory',\n",
       "       'category_str', 'total_inviews', 'total_pageviews', 'total_read_time',\n",
       "       'sentiment_score', 'sentiment_label'],\n",
       "      dtype='object')"
      ]
     },
     "execution_count": 2,
     "metadata": {},
     "output_type": "execute_result"
    }
   ],
   "source": [
    "original_df_path ='data/ebnerd_small/articles.parquet'\n",
    "original_df = pd.read_parquet(original_df_path)\n",
    "original_df.columns"
   ]
  },
  {
   "cell_type": "code",
   "execution_count": 3,
   "metadata": {},
   "outputs": [
    {
     "data": {
      "text/plain": [
       "Index(['impression_id', 'article_id', 'impression_time', 'read_time',\n",
       "       'scroll_percentage', 'device_type', 'article_ids_inview',\n",
       "       'article_ids_clicked', 'user_id', 'is_sso_user', 'gender', 'postcode',\n",
       "       'age', 'is_subscriber', 'session_id', 'next_read_time',\n",
       "       'next_scroll_percentage'],\n",
       "      dtype='object')"
      ]
     },
     "execution_count": 3,
     "metadata": {},
     "output_type": "execute_result"
    }
   ],
   "source": [
    "behaviours_path ='data/ebnerd_small/train/behaviors.parquet'\n",
    "behaviours = pd.read_parquet(behaviours_path)\n",
    "behaviours.columns"
   ]
  },
  {
   "cell_type": "code",
   "execution_count": 4,
   "metadata": {},
   "outputs": [
    {
     "data": {
      "text/plain": [
       "Index(['user_id', 'impression_time_fixed', 'scroll_percentage_fixed',\n",
       "       'article_id_fixed', 'read_time_fixed'],\n",
       "      dtype='object')"
      ]
     },
     "execution_count": 4,
     "metadata": {},
     "output_type": "execute_result"
    }
   ],
   "source": [
    "history_path ='data/ebnerd_small/train/history.parquet'\n",
    "history = pd.read_parquet(history_path)\n",
    "history.columns"
   ]
  },
  {
   "cell_type": "markdown",
   "metadata": {},
   "source": [
    "## Distribution of articles with images\n",
    "First, we aim to understand how articles on the news website are displayed to the user. We are aware that there are articles with one or more images as well as articles with no image associated with them. \n",
    "By visually analyzing the website we can see that the user is prompted with articles showing an image and the title of the article as well as only titles. Thus, looking at the distribution we might get a better idea of the user experience."
   ]
  },
  {
   "cell_type": "code",
   "execution_count": 5,
   "metadata": {},
   "outputs": [
    {
     "name": "stdout",
     "output_type": "stream",
     "text": [
      "Total Articles count : 20738\n",
      "Number of articles with images : 18860\n",
      "Percentage of articles that have images : 90.94416047834892\n"
     ]
    }
   ],
   "source": [
    "all_articles = original_df['article_id'].nunique()\n",
    "\n",
    "articles_with_images = original_df[original_df['image_ids'].notna()]['article_id'].nunique()\n",
    "\n",
    "print(f'Total Articles count : {all_articles}')\n",
    "print(f'Number of articles with images : {articles_with_images}')\n",
    "print(f'Percentage of articles that have images : {(articles_with_images / all_articles) * 100}')"
   ]
  },
  {
   "cell_type": "markdown",
   "metadata": {},
   "source": [
    "We can see that a large amount of articles **(90.94%)** have images associated with them. Thus, the next aim is to further understand user behavior in context of this distribution."
   ]
  },
  {
   "cell_type": "markdown",
   "metadata": {},
   "source": [
    "## Users Behavior\n",
    "The Behavior dataset includes relevant information on the decision-making process of the user. To get a better understanding of the click probability we aim to calculate the following :\n",
    "\n",
    "**Total clicks on Articles with Images:**\n",
    "\n",
    "\n",
    "$ \\text{Total clicks on Image Articles} = \\sum_{all users}^{}(\\text{Number of clicks on image articles by the user})$\n",
    "\n",
    "**Total Articles with Images presented to the user:**\n",
    "\n",
    "\n",
    "$ \\text{Total Image Articles} = \\sum_{all users}^{}(\\text{Number of times image articles were shown to the user})$\n",
    "\n",
    "**Total clicks on Articles without Images:**\n",
    "\n",
    "\n",
    "$ \\text{Total clicks on no Image Articles} = \\sum_{all users}^{}(\\text{Number of clicks on  articles without image by the user})$\n",
    "\n",
    "**Total Articles without Images presented to the user:**\n",
    "\n",
    "\n",
    "$ \\text{Total no Image Articles} = \\sum_{all users}^{}(\\text{Number of times articles without images were shown to the user})$\n"
   ]
  },
  {
   "cell_type": "markdown",
   "metadata": {},
   "source": [
    "Using this, we can compute :\n",
    "\n",
    "**Probability of clicking on an article with an Image**\n",
    "\n",
    "$P(\\text{click} | \\text{image}) = \\frac{\\text{Total clicks on Image Articles}}{\\text{Total Image Articles}}$\n",
    "\n",
    "**Probability of clicking on an article without an Image**\n",
    "\n",
    "$P(\\text{click} | \\text{image}) = \\frac{\\text{Total clicks on no Image Articles}}{\\text{Total no Image Articles}}$"
   ]
  },
  {
   "cell_type": "code",
   "execution_count": 7,
   "metadata": {},
   "outputs": [
    {
     "name": "stdout",
     "output_type": "stream",
     "text": [
      "Total Clicks on Image Articles : 212877\n",
      "Total Image Articles Presented : 2358623\n",
      "Total Clicks on No Image Articles : 21400\n",
      "Total No Image Articles Presented : 227124\n",
      "Probability of Clicking on Image Article : 0.09025478001359268\n",
      "Probability of Clicking on No Image Article : 0.0942216586534228\n"
     ]
    }
   ],
   "source": [
    "articles_dict = original_df.set_index('article_id')['image_ids'].to_dict()\n",
    "\n",
    "\n",
    "total_clicks_on_image_articles = 0\n",
    "total_image_articles_presented = 0\n",
    "total_clicks_on_no_image_articles = 0\n",
    "total_no_image_articles_presented = 0\n",
    "\n",
    "for idx, row in behaviours.iterrows():\n",
    "    articles_inview = row['article_ids_inview']\n",
    "    articles_clicked = row['article_ids_clicked']\n",
    "    \n",
    "    for article_id in articles_inview:\n",
    "        if articles_dict.get(article_id) is not None:\n",
    "            total_image_articles_presented += 1\n",
    "        else:\n",
    "            total_no_image_articles_presented += 1\n",
    "    \n",
    "    for article_id in articles_clicked:\n",
    "        if articles_dict.get(article_id) is not None:\n",
    "            total_clicks_on_image_articles += 1\n",
    "        else:\n",
    "            total_clicks_on_no_image_articles += 1\n",
    "\n",
    "prob_click_given_image = total_clicks_on_image_articles / total_image_articles_presented if total_image_articles_presented > 0 else 0\n",
    "prob_click_given_no_image = total_clicks_on_no_image_articles / total_no_image_articles_presented if total_no_image_articles_presented > 0 else 0\n",
    "\n",
    "print(f'Total Clicks on Image Articles : {total_clicks_on_image_articles}')\n",
    "print(f'Total Image Articles Presented : {total_image_articles_presented}')\n",
    "print(f'Total Clicks on No Image Articles : {total_clicks_on_no_image_articles}')\n",
    "print(f'Total No Image Articles Presented : {total_no_image_articles_presented}')\n",
    "print(f'Probability of Clicking on Image Article : {prob_click_given_image}')\n",
    "print(f'Probability of Clicking on No Image Article : {prob_click_given_no_image}')\n"
   ]
  },
  {
   "cell_type": "code",
   "execution_count": 18,
   "metadata": {},
   "outputs": [
    {
     "name": "stdout",
     "output_type": "stream",
     "text": [
      "Total Clicks on Image Articles : 212877\n",
      "Total Image Articles Presented : 2358623\n",
      "Total Clicks on No Image Articles : 21400\n",
      "Total No Image Articles Presented : 227124\n",
      "Probability of Clicking on Image Article : 0.0903%\n",
      "Probability of Clicking on No Image Article : 0.0942%\n",
      "Overall Click-Through Rate : 0.0906%\n"
     ]
    }
   ],
   "source": [
    "articles_dict = original_df.set_index('article_id')['image_ids'].to_dict()\n",
    "\n",
    "total_clicks_on_image_articles = 0\n",
    "total_image_articles_presented = 0\n",
    "total_clicks_on_no_image_articles = 0\n",
    "total_no_image_articles_presented = 0\n",
    "total_articles_presented = 0\n",
    "total_articles_clicked = 0\n",
    "\n",
    "for idx, row in behaviours.iterrows():\n",
    "    articles_inview = row['article_ids_inview']\n",
    "    articles_clicked = row['article_ids_clicked']\n",
    "    \n",
    "    for article_id in articles_inview:\n",
    "        total_articles_presented += 1\n",
    "        if articles_dict.get(article_id) is not None:\n",
    "            total_image_articles_presented += 1\n",
    "        else:\n",
    "            total_no_image_articles_presented += 1\n",
    "    \n",
    "    for article_id in articles_clicked:\n",
    "        total_articles_clicked += 1\n",
    "        if articles_dict.get(article_id) is not None:\n",
    "            total_clicks_on_image_articles += 1\n",
    "        else:\n",
    "            total_clicks_on_no_image_articles += 1\n",
    "\n",
    "prob_click_given_image = total_clicks_on_image_articles / total_image_articles_presented if total_image_articles_presented > 0 else 0\n",
    "prob_click_given_no_image = total_clicks_on_no_image_articles / total_no_image_articles_presented if total_no_image_articles_presented > 0 else 0\n",
    "\n",
    "overall_ctr = total_articles_clicked / total_articles_presented if total_articles_presented > 0 else 0\n",
    "\n",
    "print(f'Total Clicks on Image Articles : {total_clicks_on_image_articles}')\n",
    "print(f'Total Image Articles Presented : {total_image_articles_presented}')\n",
    "print(f'Total Clicks on No Image Articles : {total_clicks_on_no_image_articles}')\n",
    "print(f'Total No Image Articles Presented : {total_no_image_articles_presented}')\n",
    "print(f'Probability of Clicking on Image Article : {prob_click_given_image:.4f}%')\n",
    "print(f'Probability of Clicking on No Image Article : {prob_click_given_no_image:.4f}%')\n",
    "print(f'Overall Click-Through Rate : {overall_ctr:.4f}%')"
   ]
  },
  {
   "cell_type": "markdown",
   "metadata": {},
   "source": [
    "We observe the probability of clicking on no image articles **0.0942%** is slightly larger than clicking an image article **0.0903%**.\n",
    "\n",
    "Given the low number of no image articles showed **227124** (compared to image articles **2358623**), we can infer that out of a series of articles shown, there is only a small set of no image article shown to the user. This can support the larger clicking probability, thus we will investigate the distribution further."
   ]
  },
  {
   "cell_type": "code",
   "execution_count": 16,
   "metadata": {},
   "outputs": [
    {
     "name": "stdout",
     "output_type": "stream",
     "text": [
      "Percentage of no image articles out of all artices showed to users : 8.78%\n",
      "Percentage of users that are shown at least one article with no image: 55.03%\n"
     ]
    }
   ],
   "source": [
    "user_ids = []\n",
    "image_articles_presented = []\n",
    "no_image_articles_presented = []\n",
    "users_shown_only_image_articles = 0\n",
    "total_no_image_articles = 0\n",
    "total_articles_presented = 0\n",
    "\n",
    "for idx, row in behaviours.iterrows():\n",
    "    user_id = row['user_id']\n",
    "    articles_inview = row['article_ids_inview']\n",
    "    \n",
    "    count_image_articles = 0\n",
    "    count_no_image_articles = 0\n",
    "    \n",
    "    for article_id in articles_inview:\n",
    "        total_articles_presented += 1\n",
    "        if articles_dict.get(article_id) is not None:\n",
    "            count_image_articles += 1\n",
    "        else:\n",
    "            count_no_image_articles += 1\n",
    "            total_no_image_articles += 1\n",
    "    \n",
    "    user_ids.append(user_id)\n",
    "    image_articles_presented.append(count_image_articles)\n",
    "    no_image_articles_presented.append(count_no_image_articles)\n",
    "    \n",
    "    if count_no_image_articles == 0:\n",
    "        users_shown_only_image_articles += 1\n",
    "\n",
    "percentage_no_image_articles = (total_no_image_articles / total_articles_presented) * 100 if total_articles_presented > 0 else 0\n",
    "\n",
    "users_shown_at_least_one_no_image_article = len(behaviours) - users_shown_only_image_articles\n",
    "\n",
    "percentage_users_shown_at_least_one_no_image_article = users_shown_at_least_one_no_image_article / len(behaviours) * 100\n",
    "\n",
    "print(f'Percentage of no image articles out of all artices showed to users : {percentage_no_image_articles:.2f}%')\n",
    "print(f'Percentage of users that are shown at least one article with no image: {percentage_users_shown_at_least_one_no_image_article:.2f}%')\n"
   ]
  },
  {
   "cell_type": "code",
   "execution_count": 20,
   "metadata": {},
   "outputs": [
    {
     "name": "stdout",
     "output_type": "stream",
     "text": [
      "CTR for users shown only image articles: 0.1220%\n",
      "CTR for users shown both image and no-image articles: 0.0749%\n"
     ]
    }
   ],
   "source": [
    "articles_dict = original_df.set_index('article_id')['image_ids'].to_dict()\n",
    "\n",
    "user_ids = []\n",
    "image_articles_presented = []\n",
    "no_image_articles_presented = []\n",
    "image_articles_clicked = []\n",
    "no_image_articles_clicked = []\n",
    "\n",
    "for idx, row in behaviours.iterrows():\n",
    "    user_id = row['user_id']\n",
    "    articles_inview = row['article_ids_inview']\n",
    "    articles_clicked = row['article_ids_clicked']\n",
    "    \n",
    "    count_image_articles_presented = 0\n",
    "    count_no_image_articles_presented = 0\n",
    "    count_image_articles_clicked = 0\n",
    "    count_no_image_articles_clicked = 0\n",
    "    \n",
    "    for article_id in articles_inview:\n",
    "        if articles_dict.get(article_id) is not None:\n",
    "            count_image_articles_presented += 1\n",
    "        else:\n",
    "            count_no_image_articles_presented += 1\n",
    "    \n",
    "    for article_id in articles_clicked:\n",
    "        if articles_dict.get(article_id) is not None:\n",
    "            count_image_articles_clicked += 1\n",
    "        else:\n",
    "            count_no_image_articles_clicked += 1\n",
    "    \n",
    "    user_ids.append(user_id)\n",
    "    image_articles_presented.append(count_image_articles_presented)\n",
    "    no_image_articles_presented.append(count_no_image_articles_presented)\n",
    "    image_articles_clicked.append(count_image_articles_clicked)\n",
    "    no_image_articles_clicked.append(count_no_image_articles_clicked)\n",
    "\n",
    "user_stats = pd.DataFrame({\n",
    "    'user_id': user_ids,\n",
    "    'image_articles_presented': image_articles_presented,\n",
    "    'no_image_articles_presented': no_image_articles_presented,\n",
    "    'image_articles_clicked': image_articles_clicked,\n",
    "    'no_image_articles_clicked': no_image_articles_clicked\n",
    "})\n",
    "\n",
    "only_image_users = user_stats[user_stats['no_image_articles_presented'] == 0]\n",
    "both_type_users = user_stats[user_stats['no_image_articles_presented'] > 0]\n",
    "\n",
    "only_image_ctr = only_image_users['image_articles_clicked'].sum() / only_image_users['image_articles_presented'].sum() if only_image_users['image_articles_presented'].sum() > 0 else 0\n",
    "both_type_ctr = both_type_users[['image_articles_clicked', 'no_image_articles_clicked']].sum().sum() / both_type_users[['image_articles_presented', 'no_image_articles_presented']].sum().sum() if both_type_users[['image_articles_presented', 'no_image_articles_presented']].sum().sum() > 0 else 0\n",
    "\n",
    "print(f\"CTR for users shown only image articles: {only_image_ctr:.4f}%\")\n",
    "print(f\"CTR for users shown both image and no-image articles: {both_type_ctr:.4f}%\")\n"
   ]
  },
  {
   "cell_type": "markdown",
   "metadata": {},
   "source": [
    "Out of articles shown to the users, only **8.78%** are no image articles. Furthermore, only **55.03%** of the users are shown at least one no image article. \n",
    "This shows the importance of image articles in the recommender pipeline. \n",
    "\n",
    "Furthermore, analyzing the click through rates for the mixed vs only image articles shown, in context of the overall click through rate **0.0906%** we can see that image content is associated with an increased engagement **0.12%**."
   ]
  },
  {
   "cell_type": "markdown",
   "metadata": {},
   "source": [
    "## History\n",
    "Further information can be taken from the complete history"
   ]
  },
  {
   "cell_type": "code",
   "execution_count": 21,
   "metadata": {},
   "outputs": [],
   "source": [
    "clicked_articles = history['article_id_fixed'].explode().unique()\n",
    "\n",
    "clicked_articles_df = original_df[original_df['article_id'].isin(clicked_articles)]\n",
    "articles_with_images = clicked_articles_df[clicked_articles_df['image_ids'].notna()]\n"
   ]
  },
  {
   "cell_type": "code",
   "execution_count": 22,
   "metadata": {},
   "outputs": [
    {
     "name": "stdout",
     "output_type": "stream",
     "text": [
      "Total Articles Clicked: 8786\n",
      "Articles with Images Clicked: 8051\n",
      "Articles without Images Clicked: 735\n"
     ]
    }
   ],
   "source": [
    "total_clicked = len(clicked_articles)\n",
    "\n",
    "clicked_with_images = articles_with_images['article_id'].nunique()\n",
    "\n",
    "clicked_without_images = total_clicked - clicked_with_images\n",
    "\n",
    "\n",
    "print(f\"Total Articles Clicked: {total_clicked}\")\n",
    "print(f\"Articles with Images Clicked: {clicked_with_images}\")\n",
    "print(f\"Articles without Images Clicked: {clicked_without_images}\")"
   ]
  }
 ],
 "metadata": {
  "kernelspec": {
   "display_name": "Python 3",
   "language": "python",
   "name": "python3"
  },
  "language_info": {
   "codemirror_mode": {
    "name": "ipython",
    "version": 3
   },
   "file_extension": ".py",
   "mimetype": "text/x-python",
   "name": "python",
   "nbconvert_exporter": "python",
   "pygments_lexer": "ipython3",
   "version": "3.12.0"
  }
 },
 "nbformat": 4,
 "nbformat_minor": 2
}

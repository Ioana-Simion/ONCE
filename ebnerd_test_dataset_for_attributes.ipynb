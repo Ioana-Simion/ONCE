{
 "cells": [
  {
   "cell_type": "markdown",
   "metadata": {},
   "source": [
    "# Getting started with the EB-NeRD"
   ]
  },
  {
   "cell_type": "markdown",
   "metadata": {},
   "source": [
    "#### Check unique topics for articles (and difference between topics in small and large dataset)"
   ]
  },
  {
   "cell_type": "code",
   "execution_count": 2,
   "metadata": {},
   "outputs": [
    {
     "name": "stdout",
     "output_type": "stream",
     "text": [
      "[nan]\n"
     ]
    }
   ],
   "source": [
    "from tqdm import tqdm\n",
    "import pandas as pd\n",
    "\n",
    "\n",
    "articles_small = pd.read_parquet(\"data/eb-nerd/ebnerd_small/articles.parquet\")\n",
    "articles_large = pd.read_parquet(\"data/eb-nerd/ebnerd_large/articles.parquet\")\n",
    "\n",
    "\n",
    "exploded_df = articles_small.explode('topics')\n",
    "unique_tags = exploded_df['topics'].unique()\n",
    "unique_tags_list_small = unique_tags.tolist()\n",
    "\n",
    "\n",
    "exploded_df = articles_large.explode('topics')\n",
    "unique_tags = exploded_df['topics'].unique()\n",
    "unique_tags_list_large = unique_tags.tolist()\n",
    "\n",
    "\n",
    "set1 = set(unique_tags_list_small)\n",
    "set2 = set(unique_tags_list_large)\n",
    "diff1 = list(set1 - set2)\n",
    "diff2 = list(set2 - set1)\n",
    "print(diff1)"
   ]
  },
  {
   "cell_type": "markdown",
   "metadata": {},
   "source": [
    "#### aa"
   ]
  },
  {
   "cell_type": "code",
   "execution_count": 5,
   "metadata": {},
   "outputs": [
    {
     "name": "stdout",
     "output_type": "stream",
     "text": [
      "Unique categories small: ['krimi' 'underholdning' 'sport' 'nyheder' 'sex_og_samliv' 'incoming'\n",
      " 'ferie' 'musik' 'side9' 'nationen' 'forbrug' 'biler' 'haandvaerkeren'\n",
      " 'om_ekstra_bladet' 'plus' 'services' 'horoskoper' 'vin' 'video'\n",
      " 'opinionen' 'bibliotek' 'dagsorden' 'play' 'podcast' 'auto' 'penge']\n",
      "Unique categories large: ['underholdning' 'nyheder' 'sport' 'musik' 'krimi' 'sex_og_samliv' 'ferie'\n",
      " 'biler' 'incoming' 'forbrug' 'webtv' 'bibliotek' 'side9' 'haandvaerkeren'\n",
      " 'plus' 'nationen' 'vin' 'om_ekstra_bladet' 'abonnement' 'services'\n",
      " 'video' 'horoskoper' 'opinionen' 'tilavis' 'eblive' 'dagsorden'\n",
      " 'webmaster-test-sektion' 'migration_catalog' 'podcast' 'play' 'rssfeed'\n",
      " 'auto' 'penge']\n",
      "Categories in small but not in large  []\n",
      "Categories in large but not in small  ['eblive', 'abonnement', 'webmaster-test-sektion', 'webtv', 'tilavis', 'migration_catalog', 'rssfeed']\n"
     ]
    }
   ],
   "source": [
    "unique_categories_small = articles_small['category_str'].unique()\n",
    "print(\"Unique categories small:\", unique_categories_small)\n",
    "\n",
    "unique_categories_large = articles_large['category_str'].unique()\n",
    "print(\"Unique categories large:\", unique_categories_large)\n",
    "\n",
    "set1 = set(unique_categories_small)\n",
    "set2 = set(unique_categories_large)\n",
    "diff1 = list(set1 - set2)\n",
    "diff2 = list(set2 - set1)\n",
    "\n",
    "print('Categories in small but not in large ', diff1)\n",
    "print('Categories in large but not in small ', diff2)"
   ]
  },
  {
   "cell_type": "code",
   "execution_count": null,
   "metadata": {},
   "outputs": [],
   "source": []
  }
 ],
 "metadata": {
  "kernelspec": {
   "display_name": "Python 3",
   "language": "python",
   "name": "python3"
  },
  "language_info": {
   "codemirror_mode": {
    "name": "ipython",
    "version": 3
   },
   "file_extension": ".py",
   "mimetype": "text/x-python",
   "name": "python",
   "nbconvert_exporter": "python",
   "pygments_lexer": "ipython3",
   "version": "3.11.9"
  }
 },
 "nbformat": 4,
 "nbformat_minor": 2
}
